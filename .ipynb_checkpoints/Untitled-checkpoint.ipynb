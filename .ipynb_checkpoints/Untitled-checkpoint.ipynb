{
 "cells": [
  {
   "cell_type": "code",
   "execution_count": 5,
   "id": "604a2f65-a99a-4cbb-87dd-3c94d2b3cd81",
   "metadata": {},
   "outputs": [],
   "source": [
    "import random\n",
    "import string\n",
    "\n",
    "def get_random_string(length):\n",
    "    # choose from all lowercase letter\n",
    "    letters = string.ascii_lowercase\n",
    "    result_str = ''.join(random.choice(letters) for i in range(length))\n",
    "    # print(\"Random string of length\", length, \"is:\", result_str)\n",
    "    return result_str"
   ]
  },
  {
   "cell_type": "code",
   "execution_count": 35,
   "id": "91fe92f8-7a76-4a69-957d-9422eb3703d0",
   "metadata": {},
   "outputs": [],
   "source": [
    "from clickhouse_driver import Client\n",
    "\n",
    "CLICKHOUSE_CLOUD_HOSTNAME = 'localhost'\n",
    "CLICKHOUSE_CLOUD_USER = 'username'\n",
    "CLICKHOUSE_CLOUD_PASSWORD = 'password'\n",
    "client = clickhouse_connect.get_client(\n",
    "    host=CLICKHOUSE_CLOUD_HOSTNAME, port=8123, username=CLICKHOUSE_CLOUD_USER, password=CLICKHOUSE_CLOUD_PASSWORD)\n"
   ]
  },
  {
   "cell_type": "code",
   "execution_count": 40,
   "id": "e798f0e2-c3d8-43f8-a884-eb9c59d9b176",
   "metadata": {},
   "outputs": [
    {
     "data": {
      "text/plain": [
       "['__abstractmethods__',\n",
       " '__annotations__',\n",
       " '__class__',\n",
       " '__delattr__',\n",
       " '__dict__',\n",
       " '__dir__',\n",
       " '__doc__',\n",
       " '__enter__',\n",
       " '__eq__',\n",
       " '__exit__',\n",
       " '__format__',\n",
       " '__ge__',\n",
       " '__getattribute__',\n",
       " '__getstate__',\n",
       " '__gt__',\n",
       " '__hash__',\n",
       " '__init__',\n",
       " '__init_subclass__',\n",
       " '__le__',\n",
       " '__lt__',\n",
       " '__module__',\n",
       " '__ne__',\n",
       " '__new__',\n",
       " '__reduce__',\n",
       " '__reduce_ex__',\n",
       " '__repr__',\n",
       " '__setattr__',\n",
       " '__sizeof__',\n",
       " '__slots__',\n",
       " '__str__',\n",
       " '__subclasshook__',\n",
       " '__weakref__',\n",
       " '_abc_impl',\n",
       " '_active_session',\n",
       " '_check_tz_change',\n",
       " '_context_query',\n",
       " '_error_handler',\n",
       " '_owns_pool_manager',\n",
       " '_prep_query',\n",
       " '_progress_interval',\n",
       " '_query_with_context',\n",
       " '_raw_request',\n",
       " '_read_format',\n",
       " '_send_comp_setting',\n",
       " '_send_progress',\n",
       " '_setting_status',\n",
       " '_summary',\n",
       " '_transform',\n",
       " '_validate_setting',\n",
       " '_validate_settings',\n",
       " '_write_format',\n",
       " 'apply_server_timezone',\n",
       " 'close',\n",
       " 'command',\n",
       " 'compression',\n",
       " 'create_insert_context',\n",
       " 'create_query_context',\n",
       " 'data_insert',\n",
       " 'database',\n",
       " 'get_client_setting',\n",
       " 'headers',\n",
       " 'http',\n",
       " 'http_retries',\n",
       " 'insert',\n",
       " 'insert_arrow',\n",
       " 'insert_df',\n",
       " 'max_error_message',\n",
       " 'min_version',\n",
       " 'optional_transport_settings',\n",
       " 'params',\n",
       " 'ping',\n",
       " 'protocol_version',\n",
       " 'query',\n",
       " 'query_arrow',\n",
       " 'query_column_block_stream',\n",
       " 'query_df',\n",
       " 'query_df_stream',\n",
       " 'query_limit',\n",
       " 'query_np',\n",
       " 'query_np_stream',\n",
       " 'query_retries',\n",
       " 'query_row_block_stream',\n",
       " 'query_rows_stream',\n",
       " 'raw_insert',\n",
       " 'raw_query',\n",
       " 'server_host_name',\n",
       " 'server_settings',\n",
       " 'server_tz',\n",
       " 'server_version',\n",
       " 'set_client_setting',\n",
       " 'timeout',\n",
       " 'uri',\n",
       " 'url',\n",
       " 'valid_transport_settings',\n",
       " 'write_compression']"
      ]
     },
     "execution_count": 40,
     "metadata": {},
     "output_type": "execute_result"
    }
   ],
   "source": [
    "dir(client)"
   ]
  },
  {
   "cell_type": "code",
   "execution_count": 41,
   "id": "b2844580-9045-480a-89d4-b23f3665603a",
   "metadata": {},
   "outputs": [
    {
     "name": "stdout",
     "output_type": "stream",
     "text": [
      "6\n"
     ]
    },
    {
     "data": {
      "text/plain": [
       "<clickhouse_connect.driver.summary.QuerySummary at 0x12f2ee5d0>"
      ]
     },
     "execution_count": 41,
     "metadata": {},
     "output_type": "execute_result"
    }
   ],
   "source": [
    "import random\n",
    "data=[]\n",
    "print(random.randint(5, 6))\n",
    "for x in range(10):\n",
    "    data.append([x, get_random_string(random.randint(5, x+6)),get_random_string(random.randint(5, x+6)),get_random_string(random.randint(5, x+6))])\n",
    "client.insert('post', data, column_names=['ID', 'post_title', 'post_description','img_url'])\n",
    "\n",
    "\n",
    "\n"
   ]
  },
  {
   "cell_type": "code",
   "execution_count": 29,
   "id": "d7337a48-437a-4d41-b664-da8005345028",
   "metadata": {},
   "outputs": [
    {
     "name": "stdout",
     "output_type": "stream",
     "text": [
      "Requirement already satisfied: clickhouse_driver in /opt/homebrew/lib/python3.11/site-packages (0.2.6)\n",
      "Requirement already satisfied: pytz in /opt/homebrew/lib/python3.11/site-packages (from clickhouse_driver) (2023.3)\n",
      "Requirement already satisfied: tzlocal in /opt/homebrew/lib/python3.11/site-packages (from clickhouse_driver) (5.0.1)\n"
     ]
    }
   ],
   "source": [
    " !pip install clickhouse_driver"
   ]
  }
 ],
 "metadata": {
  "kernelspec": {
   "display_name": "Python 3 (ipykernel)",
   "language": "python",
   "name": "python3"
  },
  "language_info": {
   "codemirror_mode": {
    "name": "ipython",
    "version": 3
   },
   "file_extension": ".py",
   "mimetype": "text/x-python",
   "name": "python",
   "nbconvert_exporter": "python",
   "pygments_lexer": "ipython3",
   "version": "3.11.5"
  }
 },
 "nbformat": 4,
 "nbformat_minor": 5
}
