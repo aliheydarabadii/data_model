{
 "cells": [
  {
   "cell_type": "code",
   "execution_count": null,
   "id": "e798f0e2-c3d8-43f8-a884-eb9c59d9b176",
   "metadata": {},
   "outputs": [],
   "source": []
  },
  {
   "cell_type": "code",
   "execution_count": 5,
   "id": "604a2f65-a99a-4cbb-87dd-3c94d2b3cd81",
   "metadata": {},
   "outputs": [],
   "source": [
    "import random\n",
    "import string\n",
    "\n",
    "def get_random_string(length):\n",
    "    # choose from all lowercase letter\n",
    "    letters = string.ascii_lowercase\n",
    "    result_str = ''.join(random.choice(letters) for i in range(length))\n",
    "    # print(\"Random string of length\", length, \"is:\", result_str)\n",
    "    return result_str"
   ]
  },
  {
   "cell_type": "code",
   "execution_count": 103,
   "id": "91fe92f8-7a76-4a69-957d-9422eb3703d0",
   "metadata": {},
   "outputs": [],
   "source": [
    "import clickhouse_driver\n",
    "\n",
    "CLICKHOUSE_CLOUD_HOSTNAME = 'localhost'\n",
    "CLICKHOUSE_CLOUD_USER = 'username'\n",
    "CLICKHOUSE_CLOUD_PASSWORD = 'password'\n",
    "client = Client(host=CLICKHOUSE_CLOUD_HOSTNAME, port='9000', database='default', user=CLICKHOUSE_CLOUD_USER, password=CLICKHOUSE_CLOUD_PASSWORD)\n",
    "\n"
   ]
  },
  {
   "cell_type": "code",
   "execution_count": 117,
   "id": "1fbc119b-c763-438c-9ebb-45e7a4a95993",
   "metadata": {
    "scrolled": true
   },
   "outputs": [],
   "source": [
    "client.execute(\"\"\"CREATE TABLE IF NOT EXISTS default.post\n",
    "(\n",
    "    `ID` Int64,\n",
    "    `post_title` String,\n",
    "    `post_description` String,\n",
    "    `img_url` String,\n",
    "    `create_date` DateTime\n",
    ")\n",
    "ENGINE = ReplacingMergeTree\n",
    "PARTITION BY toYYYYMM(create_date)\n",
    "ORDER BY ID\n",
    "TTL create_date + toIntervalYear(7)\n",
    "SETTINGS index_granularity = 8192\"\"\");\n",
    "client.execute(\"\"\"\n",
    "CREATE TABLE IF NOT EXISTS default.voted_skipped\n",
    "(\n",
    "    `post_id` Int64,\n",
    "    `user_Id` Int64,\n",
    "    `action` Enum8('skipped' = 0, 'voted' = 1),\n",
    "    `create_at` DateTime\n",
    ")\n",
    "ENGINE = MergeTree\n",
    "ORDER BY create_at\n",
    "SETTINGS index_granularity = 8192\n",
    "\"\"\");"
   ]
  },
  {
   "cell_type": "code",
   "execution_count": 112,
   "id": "b2844580-9045-480a-89d4-b23f3665603a",
   "metadata": {},
   "outputs": [
    {
     "name": "stdout",
     "output_type": "stream",
     "text": [
      "2000000 test\n"
     ]
    },
    {
     "data": {
      "text/plain": [
       "2000000"
      ]
     },
     "execution_count": 112,
     "metadata": {},
     "output_type": "execute_result"
    }
   ],
   "source": [
    "import random\n",
    "data=[]\n",
    "import datetime\n",
    "\n",
    " \n",
    "# using now() to get current time\n",
    "\n",
    "\n",
    "\n",
    "for x in range(2000000):\n",
    "    current_time = datetime.datetime.now()\n",
    "    data.append({\"ID\":x, \"post_title\":get_random_string(random.randint(5, 20)),\"post_description\":get_random_string(random.randint(5, 20)),\"img_url\":get_random_string(random.randint(5, 20)),\"create_date\":current_time})\n",
    "print(len(data),\"test\")\n",
    "client.execute(\"INSERT INTO post FORMAT JSONEachRow\", data)\n",
    "\n",
    "\n",
    "\n",
    "\n"
   ]
  },
  {
   "cell_type": "code",
   "execution_count": 113,
   "id": "f53ccda2-b422-4303-b89a-118620d2106b",
   "metadata": {},
   "outputs": [],
   "source": [
    "import random\n",
    "data=[]\n",
    "for x in range(1000000):\n",
    "    data.append({\"post_id\":x,\"user_Id\":random.randint(1, 50),\"action\":random.randint(0, 1),\"create_at\":datetime.datetime.now()})"
   ]
  },
  {
   "cell_type": "code",
   "execution_count": 114,
   "id": "d7337a48-437a-4d41-b664-da8005345028",
   "metadata": {},
   "outputs": [
    {
     "data": {
      "text/plain": [
       "1000000"
      ]
     },
     "execution_count": 114,
     "metadata": {},
     "output_type": "execute_result"
    }
   ],
   "source": [
    "client.execute(\"INSERT INTO voted_skipped FORMAT JSONEachRow\", data)"
   ]
  }
 ],
 "metadata": {
  "kernelspec": {
   "display_name": "Python 3 (ipykernel)",
   "language": "python",
   "name": "python3"
  },
  "language_info": {
   "codemirror_mode": {
    "name": "ipython",
    "version": 3
   },
   "file_extension": ".py",
   "mimetype": "text/x-python",
   "name": "python",
   "nbconvert_exporter": "python",
   "pygments_lexer": "ipython3",
   "version": "3.11.5"
  }
 },
 "nbformat": 4,
 "nbformat_minor": 5
}
